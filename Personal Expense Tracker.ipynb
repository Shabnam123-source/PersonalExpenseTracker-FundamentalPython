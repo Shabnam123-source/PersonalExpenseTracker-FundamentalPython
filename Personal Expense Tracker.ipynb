{
 "cells": [
  {
   "cell_type": "code",
   "execution_count": 6,
   "id": "ae33f280-a373-4227-a0ea-3f33d6793edd",
   "metadata": {},
   "outputs": [
    {
     "name": "stdin",
     "output_type": "stream",
     "text": [
      "Enter your monthly budget:  15000\n"
     ]
    },
    {
     "name": "stdout",
     "output_type": "stream",
     "text": [
      "\n",
      "Expense Tracker Menu:\n",
      "1. Add expense\n",
      "2. View expenses\n",
      "3. Track budget\n",
      "4. Save expenses\n",
      "5. Exit\n"
     ]
    },
    {
     "name": "stdin",
     "output_type": "stream",
     "text": [
      "Choose an option:  1\n",
      "Enter the date (YYYY-MM-DD):  2025-02-22\n",
      "Enter the category (e.g., Food, Travel):  Fund\n",
      "Enter the amount:  2000\n",
      "Enter a brief description:  emergency fund\n"
     ]
    },
    {
     "name": "stdout",
     "output_type": "stream",
     "text": [
      "Expense added successfully!\n",
      "\n",
      "Expense Tracker Menu:\n",
      "1. Add expense\n",
      "2. View expenses\n",
      "3. Track budget\n",
      "4. Save expenses\n",
      "5. Exit\n"
     ]
    },
    {
     "name": "stdin",
     "output_type": "stream",
     "text": [
      "Choose an option:  3\n"
     ]
    },
    {
     "name": "stdout",
     "output_type": "stream",
     "text": [
      "Total spent: $18000.00\n",
      "Warning: You have exceeded your budget!\n",
      "\n",
      "Expense Tracker Menu:\n",
      "1. Add expense\n",
      "2. View expenses\n",
      "3. Track budget\n",
      "4. Save expenses\n",
      "5. Exit\n"
     ]
    },
    {
     "name": "stdin",
     "output_type": "stream",
     "text": [
      "Choose an option:  4\n"
     ]
    },
    {
     "name": "stdout",
     "output_type": "stream",
     "text": [
      "Expenses saved successfully!\n",
      "\n",
      "Expense Tracker Menu:\n",
      "1. Add expense\n",
      "2. View expenses\n",
      "3. Track budget\n",
      "4. Save expenses\n",
      "5. Exit\n"
     ]
    },
    {
     "name": "stdin",
     "output_type": "stream",
     "text": [
      "Choose an option:  5\n"
     ]
    },
    {
     "name": "stdout",
     "output_type": "stream",
     "text": [
      "Exiting program. Expenses saved.\n"
     ]
    }
   ],
   "source": [
    "import csv\n",
    "import os\n",
    "\n",
    "def load_expenses(filename=\"expenses.csv\"):\n",
    "    expenses = []\n",
    "    if os.path.exists(filename):\n",
    "        with open(filename, mode=\"r\", newline=\"\") as file:\n",
    "            reader = csv.DictReader(file)\n",
    "            for row in reader:\n",
    "                row[\"amount\"] = float(row[\"amount\"])  # Convert amount to float\n",
    "                expenses.append(row)\n",
    "    return expenses\n",
    "\n",
    "def save_expenses(expenses, filename=\"expenses.csv\"):\n",
    "    with open(filename, mode=\"w\", newline=\"\") as file:\n",
    "        fieldnames = [\"date\", \"category\", \"amount\", \"description\"]\n",
    "        writer = csv.DictWriter(file, fieldnames=fieldnames)\n",
    "        writer.writeheader()\n",
    "        writer.writerows(expenses)\n",
    "\n",
    "def add_expense(expenses):\n",
    "    date = input(\"Enter the date (YYYY-MM-DD): \")\n",
    "    category = input(\"Enter the category (e.g., Food, Travel): \")\n",
    "    amount = float(input(\"Enter the amount: \"))\n",
    "    description = input(\"Enter a brief description: \")\n",
    "    expense = {\"date\": date, \"category\": category, \"amount\": amount, \"description\": description}\n",
    "    expenses.append(expense)\n",
    "    print(\"Expense added successfully!\")\n",
    "\n",
    "def view_expenses(expenses):\n",
    "    if not expenses:\n",
    "        print(\"No expenses recorded yet.\")\n",
    "        return\n",
    "    for idx, expense in enumerate(expenses, start=1):\n",
    "        print(f\"{idx}. Date: {expense['date']}, Category: {expense['category']}, Amount: ${expense['amount']:.2f}, Description: {expense['description']}\")\n",
    "\n",
    "def set_budget():\n",
    "    return float(input(\"Enter your monthly budget: \"))\n",
    "\n",
    "def track_budget(expenses, budget):\n",
    "    total_spent = sum(expense[\"amount\"] for expense in expenses)\n",
    "    remaining = budget - total_spent\n",
    "    print(f\"Total spent: ${total_spent:.2f}\")\n",
    "    if total_spent > budget:\n",
    "        print(\"Warning: You have exceeded your budget!\")\n",
    "    else:\n",
    "        print(f\"You have ${remaining:.2f} left for the month.\")\n",
    "\n",
    "def display_menu():\n",
    "    print(\"\\nExpense Tracker Menu:\")\n",
    "    print(\"1. Add expense\")\n",
    "    print(\"2. View expenses\")\n",
    "    print(\"3. Track budget\")\n",
    "    print(\"4. Save expenses\")\n",
    "    print(\"5. Exit\")\n",
    "\n",
    "def main():\n",
    "    expenses = load_expenses()\n",
    "    budget = set_budget()\n",
    "    while True:\n",
    "        display_menu()\n",
    "        choice = input(\"Choose an option: \")\n",
    "        \n",
    "        if choice == \"1\":\n",
    "            add_expense(expenses)\n",
    "        elif choice == \"2\":\n",
    "            view_expenses(expenses)\n",
    "        elif choice == \"3\":\n",
    "            track_budget(expenses, budget)\n",
    "        elif choice == \"4\":\n",
    "            save_expenses(expenses)\n",
    "            print(\"Expenses saved successfully!\")\n",
    "        elif choice == \"5\":\n",
    "            save_expenses(expenses)\n",
    "            print(\"Exiting program. Expenses saved.\")\n",
    "            break\n",
    "        else:\n",
    "            print(\"Invalid choice. Please try again.\")\n",
    "\n",
    "if __name__ == \"__main__\":\n",
    "    main()\n"
   ]
  },
  {
   "cell_type": "code",
   "execution_count": null,
   "id": "c5a884fe-069b-46c8-8124-79b3333215f7",
   "metadata": {},
   "outputs": [],
   "source": []
  }
 ],
 "metadata": {
  "kernelspec": {
   "display_name": "Python 3 (ipykernel)",
   "language": "python",
   "name": "python3"
  },
  "language_info": {
   "codemirror_mode": {
    "name": "ipython",
    "version": 3
   },
   "file_extension": ".py",
   "mimetype": "text/x-python",
   "name": "python",
   "nbconvert_exporter": "python",
   "pygments_lexer": "ipython3",
   "version": "3.13.2"
  }
 },
 "nbformat": 4,
 "nbformat_minor": 5
}
